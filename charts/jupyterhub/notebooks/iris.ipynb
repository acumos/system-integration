{
 "cells": [
  {
   "cell_type": "code",
   "execution_count": null,
   "metadata": {},
   "outputs": [],
   "source": [
    "!pip install acumos\n",
    "!conda install -y libprotobuf"
   ]
  },
  {
   "cell_type": "code",
   "execution_count": null,
   "metadata": {},
   "outputs": [],
   "source": [
    "import os\n",
    "import os.path\n",
    "import time\n",
    "\n",
    "from acumos.session import AcumosSession\n",
    "from acumos.modeling import Model, List, create_dataframe\n",
    " \n",
    "import numpy as np\n",
    "import pandas as pd\n",
    "from sklearn.datasets import load_iris\n",
    "from sklearn.ensemble import RandomForestClassifier\n",
    "\n",
    "iris = load_iris()\n",
    "X = iris.data\n",
    "y = iris.target\n",
    " \n",
    "clf = RandomForestClassifier(random_state=0)\n",
    "clf.fit(X, y)\n",
    "\n",
    "# here, an appropriate NamedTuple type is inferred from a pandas DataFrame\n",
    "X_df = pd.DataFrame(X, columns=['sepal_length', 'sepal_width', 'petal_length', 'petal_width'])\n",
    "IrisDataFrame = create_dataframe('IrisDataFrame', X_df)\n",
    " \n",
    "# ==================================================================================\n",
    "# # or equivalently:\n",
    "#\n",
    "# IrisDataFrame = create_namedtuple('IrisDataFrame', [('sepal_length', List[float]),\n",
    "#                                                     ('sepal_width', List[float]),\n",
    "#                                                     ('petal_length', List[float]),\n",
    "#                                                     ('petal_width', List[float])])\n",
    "# ==================================================================================\n",
    " \n",
    "def classify_iris(df: IrisDataFrame) -> List[int]:\n",
    "    '''Returns an array of iris classifications'''\n",
    "    X = np.column_stack(df)\n",
    "    return clf.predict(X)\n",
    " \n",
    "model = Model(classify=classify_iris)\n",
    " \n",
    "session = AcumosSession()\n",
    "\n",
    "if os.path.exists(\"iris_sklearn\"):\n",
    "    os.remove('iris_sklearn/metadata.json')\n",
    "    os.remove('iris_sklearn/model.proto')\n",
    "    os.remove('iris_sklearn/model.zip')\n",
    "    os.rmdir('iris_sklearn')\n",
    "\n",
    "session.dump(model,'iris_sklearn','~/.')\n",
    "\n",
    "while not os.path.exists(\"iris_sklearn\"):\n",
    "    time.sleep(1)\n",
    "\n",
    "print(\"The trained model has been dumped into the iris_sklearn folder\")"
   ]
  },
  {
   "cell_type": "code",
   "execution_count": null,
   "metadata": {},
   "outputs": [],
   "source": [
    "if not os.path.exists(\"acumos-push.py\"):\n",
    "    !wget https://raw.githubusercontent.com/acumos/system-integration/master/charts/jupyterhub/scripts/acumos-push.py\n",
    "os.environ['ACUMOS_USERNAME'] = \"test\"\n",
    "os.environ['ACUMOS_PASSWORD'] = \"P@ssw0rd\"\n",
    "os.environ['ACUMOS_TOKEN'] = \"171cfda8dfa24edf8dfbc3dd681d8562\"\n",
    "os.environ['ACUMOS_DUMPDIR'] = \"iris_sklearn\"\n",
    "print(\"The model is being onboarded; this may take some minutes, so please be patient.\")\n",
    "!python acumos-push.py\n",
    "print(\"Model onboarding has finished. Check at the Acumos portal to ensure onboarding was successful.\")"
   ]
  },
  {
   "cell_type": "code",
   "execution_count": null,
   "metadata": {},
   "outputs": [],
   "source": []
  }
 ],
 "metadata": {
  "kernelspec": {
   "display_name": "Python 3",
   "language": "python",
   "name": "python3"
  },
  "language_info": {
   "codemirror_mode": {
    "name": "ipython",
    "version": 3
   },
   "file_extension": ".py",
   "mimetype": "text/x-python",
   "name": "python",
   "nbconvert_exporter": "python",
   "pygments_lexer": "ipython3",
   "version": "3.6.8"
  }
 },
 "nbformat": 4,
 "nbformat_minor": 2
}
